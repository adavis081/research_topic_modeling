{
 "cells": [
  {
   "cell_type": "markdown",
   "id": "83f239c2-e5f3-42a2-959b-3bd46d1769e2",
   "metadata": {},
   "source": [
    "# OpenAlex Data Pipeline\n",
    "\n",
    "Author: Alex Davis\n",
    "\n",
    "Date: 07/05/2024\n",
    "\n",
    "The purpose of this script is to ingest OSINT data from the OpenAlex API (https://docs.openalex.org/), preprocess the data, and\n",
    "prepare it for modeling."
   ]
  },
  {
   "cell_type": "code",
   "execution_count": 19,
   "id": "eea63441-209c-47ec-a1e5-e5a0dd0889a4",
   "metadata": {
    "tags": []
   },
   "outputs": [
    {
     "name": "stderr",
     "output_type": "stream",
     "text": [
      "[nltk_data] Downloading package stopwords to /home/studio-lab-\n",
      "[nltk_data]     user/nltk_data...\n",
      "[nltk_data]   Package stopwords is already up-to-date!\n",
      "[nltk_data] Downloading package punkt to /home/studio-lab-\n",
      "[nltk_data]     user/nltk_data...\n",
      "[nltk_data]   Package punkt is already up-to-date!\n",
      "[nltk_data] Downloading package wordnet to /home/studio-lab-\n",
      "[nltk_data]     user/nltk_data...\n",
      "[nltk_data]   Package wordnet is already up-to-date!\n"
     ]
    }
   ],
   "source": [
    "#import packages\n",
    "import pandas as pd\n",
    "import requests\n",
    "import re\n",
    "import string\n",
    "import nltk\n",
    "nltk.download('stopwords')\n",
    "nltk.download('punkt')\n",
    "nltk.download('wordnet')\n",
    "from nltk.corpus import stopwords\n",
    "import pickle "
   ]
  },
  {
   "cell_type": "markdown",
   "id": "4ee0d50e-d00a-4bc5-ab2e-0ccbe1f35ead",
   "metadata": {
    "tags": []
   },
   "source": [
    "## Import Data"
   ]
  },
  {
   "cell_type": "markdown",
   "id": "73d4425f-5b74-47e9-907f-bb0ad18c3996",
   "metadata": {},
   "source": [
    "The function below connects to the OpenAlex API and conducts searches based on the parameters (year, keywords, etc.). The function returns a dataframe as a result of the search."
   ]
  },
  {
   "cell_type": "code",
   "execution_count": 2,
   "id": "ea72bc1d-bab7-4d9c-9916-f5f81ffe7a75",
   "metadata": {
    "tags": []
   },
   "outputs": [],
   "source": [
    "def import_data(pages, start_year, end_year, search_terms):\n",
    "    \n",
    "    \"\"\"\n",
    "    This function is used to use the OpenAlex API, conduct a search on works, a return a dataframe with associated works.\n",
    "    \n",
    "    Inputs: \n",
    "        - pages: int, number of pages to loop through\n",
    "        - search_terms: str, keywords to search for (must be formatted according to OpenAlex standards)\n",
    "        - start_year and end_year: int, years to set as a range for filtering works\n",
    "    \"\"\"\n",
    "    \n",
    "    #create an empty dataframe\n",
    "    search_results = pd.DataFrame()\n",
    "    \n",
    "    for page in range(1, pages):\n",
    "        \n",
    "        #use paramters to conduct request and format to a dataframe\n",
    "        response = requests.get(f'https://api.openalex.org/works?page={page}&per-page=200&filter=publication_year:{start_year}-{end_year},type:article&search={search_terms}')\n",
    "        data = pd.DataFrame(response.json()['results'])\n",
    "        \n",
    "        #append to empty dataframe\n",
    "        search_results = pd.concat([search_results, data])\n",
    "    \n",
    "    #subset to relevant features\n",
    "    search_results = search_results[[\"id\", \"title\", \"display_name\", \"publication_year\", \"publication_date\",\n",
    "                                        \"type\", \"countries_distinct_count\",\"institutions_distinct_count\",\n",
    "                                        \"has_fulltext\", \"cited_by_count\", \"keywords\", \"referenced_works_count\", \"abstract_inverted_index\"]]\n",
    "    \n",
    "    return(search_results)"
   ]
  },
  {
   "cell_type": "markdown",
   "id": "f7884ec3-e0e0-4b7e-b219-9f9ebdd89049",
   "metadata": {},
   "source": [
    "Below, we conduct multiple searches to cover different technology areas inspired by the DoD's critical technology areas (https://www.cto.mil/usdre-strat-vision-critical-tech-areas/). We do this to ensure variety within our data and to have a general idea of the topics included.\n",
    "\n",
    "We set the years from 2016 to 2024 to filter to relevant data. We choose 25 pages to keep the size of each search reasonable. Lastly, we pick a handfull of key terms for each search."
   ]
  },
  {
   "cell_type": "code",
   "execution_count": 3,
   "id": "e3c0f059-d648-4ffd-9895-782003d220ce",
   "metadata": {
    "tags": []
   },
   "outputs": [],
   "source": [
    "#search for Trusted AI and Autonomy\n",
    "ai_search = import_data(35, 2016, 2024, \"'artificial intelligence' OR 'deep learn' OR 'neural net' OR 'autonomous' OR drone\")"
   ]
  },
  {
   "cell_type": "code",
   "execution_count": 4,
   "id": "a6cf7334-6916-49b2-af1f-6e5732110fb6",
   "metadata": {
    "tags": []
   },
   "outputs": [],
   "source": [
    "#search for Biotechnology\n",
    "biotech_search = import_data(35, 2016, 2024, \"biotech OR dna OR genome OR crispr OR rna\")"
   ]
  },
  {
   "cell_type": "code",
   "execution_count": 5,
   "id": "b1d1e5f4-0627-49c8-9052-6e2c8421ec98",
   "metadata": {
    "tags": []
   },
   "outputs": [],
   "source": [
    "#search for Advanced Materials\n",
    "materials_search = import_data(35, 2016, 2024, \"biomaterial OR 'smart material' OR nanotech OR 'carbon fiber' OR superalloy\")"
   ]
  },
  {
   "cell_type": "code",
   "execution_count": 6,
   "id": "48d03677-8e56-4305-a55b-af023b0558fe",
   "metadata": {
    "tags": []
   },
   "outputs": [],
   "source": [
    "#search for Space Technology\n",
    "space_search = import_data(35, 2016, 2024, \"satellite OR gps OR 'space navigation' OR 'space communications'\")"
   ]
  },
  {
   "cell_type": "code",
   "execution_count": 7,
   "id": "070570ca-8654-4d9c-ac07-9a5ede7c63d9",
   "metadata": {
    "tags": []
   },
   "outputs": [],
   "source": [
    "#search for Human Machine Interfaces\n",
    "interfaces_search = import_data(35, 2016, 2024, \"'augmented reality' OR 'virtual reality' OR 'human-machine interfac' OR 'brain-mach'\")"
   ]
  },
  {
   "cell_type": "code",
   "execution_count": 8,
   "id": "578b413d-8e8f-460b-8c15-417454c9244e",
   "metadata": {
    "tags": []
   },
   "outputs": [
    {
     "name": "stdout",
     "output_type": "stream",
     "text": [
      "Final Number of Works: 33148\n"
     ]
    }
   ],
   "source": [
    "#concatenate into a master dataframe and drop duplicates/null abstracts\n",
    "master_search = pd.concat([ai_search, biotech_search, materials_search, space_search, interfaces_search])\n",
    "master_search = master_search.drop_duplicates(subset = 'id')\n",
    "master_search = master_search[master_search['abstract_inverted_index'].notna()]\n",
    "\n",
    "print(f\"Final Number of Works: {len(master_search)}\")"
   ]
  },
  {
   "cell_type": "markdown",
   "id": "5a432d7f-e3fd-4d2c-96fc-50a84f18a2f2",
   "metadata": {},
   "source": [
    "## Preprocess Data\n",
    "\n",
    "The abstracts associated with the works we pulled are returned as an inverted index due to legal reasons. This invereted index can used to return the original text. Then, the text must be cleaned to be prepared for embeddings."
   ]
  },
  {
   "cell_type": "markdown",
   "id": "19acab1f-d721-468c-88c4-a171745666d6",
   "metadata": {},
   "source": [
    "### Inverted Indices"
   ]
  },
  {
   "cell_type": "code",
   "execution_count": 9,
   "id": "ed8b2862-50f6-4722-aaf1-9ab5af2a57ec",
   "metadata": {
    "tags": []
   },
   "outputs": [],
   "source": [
    "def undo_inverted_index(inverted_index):\n",
    "    \n",
    "    \"\"\"\n",
    "    The purpose of the function is to 'undo' and inverted index. It inputs an inverted index and\n",
    "    returns the original string.\n",
    "    \"\"\"\n",
    "\n",
    "    #create empty lists to store uninverted index\n",
    "    word_index = []\n",
    "    words_unindexed = []\n",
    "    \n",
    "    #loop through index and return key-value pairs\n",
    "    for k,v in inverted_index.items(): \n",
    "        for index in v: word_index.append([k,index])\n",
    "\n",
    "    #sort by the index\n",
    "    word_index = sorted(word_index, key = lambda x : x[1])\n",
    "    \n",
    "    #join only the values and flatten\n",
    "    for pair in word_index:\n",
    "        words_unindexed.append(pair[0])\n",
    "    words_unindexed = ' '.join(words_unindexed)\n",
    "    \n",
    "    return(words_unindexed)"
   ]
  },
  {
   "cell_type": "code",
   "execution_count": 10,
   "id": "9330662f-d78d-48ae-bb94-8c1defeda784",
   "metadata": {
    "tags": []
   },
   "outputs": [],
   "source": [
    "#create 'original_abstract' feature\n",
    "master_search['original_abstract'] = list(map(undo_inverted_index, master_search['abstract_inverted_index']))"
   ]
  },
  {
   "cell_type": "code",
   "execution_count": 11,
   "id": "56a06656-9e3e-4a0e-abce-088fbc5ea0ee",
   "metadata": {
    "tags": []
   },
   "outputs": [
    {
     "data": {
      "text/html": [
       "<div>\n",
       "<style scoped>\n",
       "    .dataframe tbody tr th:only-of-type {\n",
       "        vertical-align: middle;\n",
       "    }\n",
       "\n",
       "    .dataframe tbody tr th {\n",
       "        vertical-align: top;\n",
       "    }\n",
       "\n",
       "    .dataframe thead th {\n",
       "        text-align: right;\n",
       "    }\n",
       "</style>\n",
       "<table border=\"1\" class=\"dataframe\">\n",
       "  <thead>\n",
       "    <tr style=\"text-align: right;\">\n",
       "      <th></th>\n",
       "      <th>id</th>\n",
       "      <th>title</th>\n",
       "      <th>display_name</th>\n",
       "      <th>publication_year</th>\n",
       "      <th>publication_date</th>\n",
       "      <th>type</th>\n",
       "      <th>countries_distinct_count</th>\n",
       "      <th>institutions_distinct_count</th>\n",
       "      <th>has_fulltext</th>\n",
       "      <th>cited_by_count</th>\n",
       "      <th>keywords</th>\n",
       "      <th>referenced_works_count</th>\n",
       "      <th>abstract_inverted_index</th>\n",
       "      <th>original_abstract</th>\n",
       "    </tr>\n",
       "  </thead>\n",
       "  <tbody>\n",
       "    <tr>\n",
       "      <th>0</th>\n",
       "      <td>https://openalex.org/W2664267452</td>\n",
       "      <td>Artificial intelligence in healthcare: past, p...</td>\n",
       "      <td>Artificial intelligence in healthcare: past, p...</td>\n",
       "      <td>2017</td>\n",
       "      <td>2017-06-21</td>\n",
       "      <td>article</td>\n",
       "      <td>2</td>\n",
       "      <td>6</td>\n",
       "      <td>True</td>\n",
       "      <td>2328</td>\n",
       "      <td>[{'id': 'https://openalex.org/keywords/artific...</td>\n",
       "      <td>57</td>\n",
       "      <td>{'Artificial': [0], 'intelligence': [1], '(AI)...</td>\n",
       "      <td>Artificial intelligence (AI) aims to mimic hum...</td>\n",
       "    </tr>\n",
       "    <tr>\n",
       "      <th>1</th>\n",
       "      <td>https://openalex.org/W2981731882</td>\n",
       "      <td>Explainable Artificial Intelligence (XAI): Con...</td>\n",
       "      <td>Explainable Artificial Intelligence (XAI): Con...</td>\n",
       "      <td>2020</td>\n",
       "      <td>2020-06-01</td>\n",
       "      <td>article</td>\n",
       "      <td>2</td>\n",
       "      <td>5</td>\n",
       "      <td>False</td>\n",
       "      <td>3870</td>\n",
       "      <td>[{'id': 'https://openalex.org/keywords/xai-con...</td>\n",
       "      <td>229</td>\n",
       "      <td>{'In': [0], 'the': [1, 19, 28, 38, 45, 53, 70,...</td>\n",
       "      <td>In the last few years, Artificial Intelligence...</td>\n",
       "    </tr>\n",
       "    <tr>\n",
       "      <th>2</th>\n",
       "      <td>https://openalex.org/W2766447205</td>\n",
       "      <td>Mastering the game of Go without human knowledge</td>\n",
       "      <td>Mastering the game of Go without human knowledge</td>\n",
       "      <td>2017</td>\n",
       "      <td>2017-10-01</td>\n",
       "      <td>article</td>\n",
       "      <td>1</td>\n",
       "      <td>1</td>\n",
       "      <td>True</td>\n",
       "      <td>6893</td>\n",
       "      <td>[{'id': 'https://openalex.org/keywords/compute...</td>\n",
       "      <td>33</td>\n",
       "      <td>{'A': [0], 'long-standing': [1], 'goal': [2], ...</td>\n",
       "      <td>A long-standing goal of artificial intelligenc...</td>\n",
       "    </tr>\n",
       "  </tbody>\n",
       "</table>\n",
       "</div>"
      ],
      "text/plain": [
       "                                 id  \\\n",
       "0  https://openalex.org/W2664267452   \n",
       "1  https://openalex.org/W2981731882   \n",
       "2  https://openalex.org/W2766447205   \n",
       "\n",
       "                                               title  \\\n",
       "0  Artificial intelligence in healthcare: past, p...   \n",
       "1  Explainable Artificial Intelligence (XAI): Con...   \n",
       "2   Mastering the game of Go without human knowledge   \n",
       "\n",
       "                                        display_name  publication_year  \\\n",
       "0  Artificial intelligence in healthcare: past, p...              2017   \n",
       "1  Explainable Artificial Intelligence (XAI): Con...              2020   \n",
       "2   Mastering the game of Go without human knowledge              2017   \n",
       "\n",
       "  publication_date     type  countries_distinct_count  \\\n",
       "0       2017-06-21  article                         2   \n",
       "1       2020-06-01  article                         2   \n",
       "2       2017-10-01  article                         1   \n",
       "\n",
       "   institutions_distinct_count  has_fulltext  cited_by_count  \\\n",
       "0                            6          True            2328   \n",
       "1                            5         False            3870   \n",
       "2                            1          True            6893   \n",
       "\n",
       "                                            keywords  referenced_works_count  \\\n",
       "0  [{'id': 'https://openalex.org/keywords/artific...                      57   \n",
       "1  [{'id': 'https://openalex.org/keywords/xai-con...                     229   \n",
       "2  [{'id': 'https://openalex.org/keywords/compute...                      33   \n",
       "\n",
       "                             abstract_inverted_index  \\\n",
       "0  {'Artificial': [0], 'intelligence': [1], '(AI)...   \n",
       "1  {'In': [0], 'the': [1, 19, 28, 38, 45, 53, 70,...   \n",
       "2  {'A': [0], 'long-standing': [1], 'goal': [2], ...   \n",
       "\n",
       "                                   original_abstract  \n",
       "0  Artificial intelligence (AI) aims to mimic hum...  \n",
       "1  In the last few years, Artificial Intelligence...  \n",
       "2  A long-standing goal of artificial intelligenc...  "
      ]
     },
     "execution_count": 11,
     "metadata": {},
     "output_type": "execute_result"
    }
   ],
   "source": [
    "master_search.head(3)"
   ]
  },
  {
   "cell_type": "markdown",
   "id": "578d6149-f343-4fa6-a434-42232949924b",
   "metadata": {},
   "source": [
    "### Combine and Clean Text"
   ]
  },
  {
   "cell_type": "code",
   "execution_count": 12,
   "id": "ea74adeb-64eb-4b49-95e9-ef4c2bf52823",
   "metadata": {
    "tags": []
   },
   "outputs": [],
   "source": [
    "#combine all text into one column for analysis and embedding\n",
    "master_search[\"all_text\"] = master_search[\"title\"] + master_search[\"display_name\"] + master_search[\"original_abstract\"]"
   ]
  },
  {
   "cell_type": "code",
   "execution_count": 21,
   "id": "e7aa2540-45bc-4e8e-a0f1-0afe1adab221",
   "metadata": {
    "tags": []
   },
   "outputs": [],
   "source": [
    "def preprocess(text):\n",
    "    \n",
    "    \"\"\"\n",
    "    This function takes in a string, coverts it to lowercase, cleans\n",
    "    it (remove special character and numbers), and tokenizes it.\n",
    "    \"\"\"\n",
    "    \n",
    "    #convert to lowercase\n",
    "    text = text.lower()\n",
    "    \n",
    "    #remove special character and digits\n",
    "    text = re.sub(r'\\d+', '', text)\n",
    "    text = re.sub(r'[^\\w\\s]', '', text)\n",
    "    \n",
    "    #tokenize\n",
    "    tokens = nltk.word_tokenize(text)\n",
    "    \n",
    "    return(tokens)"
   ]
  },
  {
   "cell_type": "code",
   "execution_count": 22,
   "id": "5f31d5de-74fe-491a-9975-3a5c4026599e",
   "metadata": {
    "tags": []
   },
   "outputs": [],
   "source": [
    "def remove_stopwords(tokens):\n",
    "    \n",
    "    \"\"\"\n",
    "    This function takes in a list of tokens (from the 'preprocess' function) and \n",
    "    removes a list of stopwords. Custom stopwords can be added to the 'custom_stopwords' list.\n",
    "    \"\"\"\n",
    "    \n",
    "    #set default and custom stopwords\n",
    "    stop_words = nltk.corpus.stopwords.words('english')\n",
    "    custom_stopwords = []\n",
    "    stop_words.extend(custom_stopwords)\n",
    "    \n",
    "    #filter out stopwords\n",
    "    filtered_tokens = [word for word in tokens if word not in stop_words]\n",
    "    \n",
    "    return(filtered_tokens)"
   ]
  },
  {
   "cell_type": "code",
   "execution_count": 23,
   "id": "1bf01edc-5375-48f3-b5fd-911762bdd599",
   "metadata": {
    "tags": []
   },
   "outputs": [],
   "source": [
    "def lemmatize(tokens):\n",
    "    \n",
    "    \"\"\"\n",
    "    This function conducts lemmatization on a list of tokens (from the 'remove_stopwords' function).\n",
    "    This shortens each word down to its root form to improve modeling results.\n",
    "    \"\"\"\n",
    "    \n",
    "    #initalize lemmatizer and lemmatize\n",
    "    lemmatizer = nltk.WordNetLemmatizer()\n",
    "    lemmatized_tokens = [lemmatizer.lemmatize(token) for token in tokens]\n",
    "    \n",
    "    return(lemmatized_tokens)"
   ]
  },
  {
   "cell_type": "code",
   "execution_count": 25,
   "id": "92ba5780-7848-4ee2-adfc-e61da20b6198",
   "metadata": {
    "tags": []
   },
   "outputs": [],
   "source": [
    "def clean_text(text):\n",
    "    \n",
    "    \"\"\"\n",
    "    This function uses the previously defined functions to take a string and\\\n",
    "    run it through the entire data preprocessing process.\n",
    "    \"\"\"\n",
    "    \n",
    "    #clean, tokenize, and lemmatize a string\n",
    "    tokens = preprocess(text)\n",
    "    filtered_tokens = remove_stopwords(tokens)\n",
    "    lemmatized_tokens = lemmatize(filtered_tokens)\n",
    "    clean_text = ' '.join(lemmatized_tokens)\n",
    "    \n",
    "    return(clean_text)"
   ]
  },
  {
   "cell_type": "code",
   "execution_count": 17,
   "id": "c38bdb7c-1c37-4a43-a3c7-2054480079c4",
   "metadata": {
    "tags": []
   },
   "outputs": [],
   "source": [
    "#use functions above to create a column with preprocessed text\n",
    "master_search['clean_text'] = list(map(clean_text, master_search['all_text']))"
   ]
  },
  {
   "cell_type": "code",
   "execution_count": 18,
   "id": "2f8f9e4c-b540-453f-bfe9-17a1ff68626b",
   "metadata": {
    "tags": []
   },
   "outputs": [
    {
     "data": {
      "text/html": [
       "<div>\n",
       "<style scoped>\n",
       "    .dataframe tbody tr th:only-of-type {\n",
       "        vertical-align: middle;\n",
       "    }\n",
       "\n",
       "    .dataframe tbody tr th {\n",
       "        vertical-align: top;\n",
       "    }\n",
       "\n",
       "    .dataframe thead th {\n",
       "        text-align: right;\n",
       "    }\n",
       "</style>\n",
       "<table border=\"1\" class=\"dataframe\">\n",
       "  <thead>\n",
       "    <tr style=\"text-align: right;\">\n",
       "      <th></th>\n",
       "      <th>id</th>\n",
       "      <th>title</th>\n",
       "      <th>display_name</th>\n",
       "      <th>publication_year</th>\n",
       "      <th>publication_date</th>\n",
       "      <th>type</th>\n",
       "      <th>countries_distinct_count</th>\n",
       "      <th>institutions_distinct_count</th>\n",
       "      <th>has_fulltext</th>\n",
       "      <th>cited_by_count</th>\n",
       "      <th>keywords</th>\n",
       "      <th>referenced_works_count</th>\n",
       "      <th>abstract_inverted_index</th>\n",
       "      <th>original_abstract</th>\n",
       "      <th>all_text</th>\n",
       "      <th>clean_text</th>\n",
       "    </tr>\n",
       "  </thead>\n",
       "  <tbody>\n",
       "    <tr>\n",
       "      <th>0</th>\n",
       "      <td>https://openalex.org/W2664267452</td>\n",
       "      <td>Artificial intelligence in healthcare: past, p...</td>\n",
       "      <td>Artificial intelligence in healthcare: past, p...</td>\n",
       "      <td>2017</td>\n",
       "      <td>2017-06-21</td>\n",
       "      <td>article</td>\n",
       "      <td>2</td>\n",
       "      <td>6</td>\n",
       "      <td>True</td>\n",
       "      <td>2328</td>\n",
       "      <td>[{'id': 'https://openalex.org/keywords/artific...</td>\n",
       "      <td>57</td>\n",
       "      <td>{'Artificial': [0], 'intelligence': [1], '(AI)...</td>\n",
       "      <td>Artificial intelligence (AI) aims to mimic hum...</td>\n",
       "      <td>Artificial intelligence in healthcare: past, p...</td>\n",
       "      <td>artificial intelligence healthcare past presen...</td>\n",
       "    </tr>\n",
       "    <tr>\n",
       "      <th>1</th>\n",
       "      <td>https://openalex.org/W2981731882</td>\n",
       "      <td>Explainable Artificial Intelligence (XAI): Con...</td>\n",
       "      <td>Explainable Artificial Intelligence (XAI): Con...</td>\n",
       "      <td>2020</td>\n",
       "      <td>2020-06-01</td>\n",
       "      <td>article</td>\n",
       "      <td>2</td>\n",
       "      <td>5</td>\n",
       "      <td>False</td>\n",
       "      <td>3870</td>\n",
       "      <td>[{'id': 'https://openalex.org/keywords/xai-con...</td>\n",
       "      <td>229</td>\n",
       "      <td>{'In': [0], 'the': [1, 19, 28, 38, 45, 53, 70,...</td>\n",
       "      <td>In the last few years, Artificial Intelligence...</td>\n",
       "      <td>Explainable Artificial Intelligence (XAI): Con...</td>\n",
       "      <td>explainable artificial intelligence xai concep...</td>\n",
       "    </tr>\n",
       "    <tr>\n",
       "      <th>2</th>\n",
       "      <td>https://openalex.org/W2766447205</td>\n",
       "      <td>Mastering the game of Go without human knowledge</td>\n",
       "      <td>Mastering the game of Go without human knowledge</td>\n",
       "      <td>2017</td>\n",
       "      <td>2017-10-01</td>\n",
       "      <td>article</td>\n",
       "      <td>1</td>\n",
       "      <td>1</td>\n",
       "      <td>True</td>\n",
       "      <td>6893</td>\n",
       "      <td>[{'id': 'https://openalex.org/keywords/compute...</td>\n",
       "      <td>33</td>\n",
       "      <td>{'A': [0], 'long-standing': [1], 'goal': [2], ...</td>\n",
       "      <td>A long-standing goal of artificial intelligenc...</td>\n",
       "      <td>Mastering the game of Go without human knowled...</td>\n",
       "      <td>mastering game go without human knowledgemaste...</td>\n",
       "    </tr>\n",
       "  </tbody>\n",
       "</table>\n",
       "</div>"
      ],
      "text/plain": [
       "                                 id  \\\n",
       "0  https://openalex.org/W2664267452   \n",
       "1  https://openalex.org/W2981731882   \n",
       "2  https://openalex.org/W2766447205   \n",
       "\n",
       "                                               title  \\\n",
       "0  Artificial intelligence in healthcare: past, p...   \n",
       "1  Explainable Artificial Intelligence (XAI): Con...   \n",
       "2   Mastering the game of Go without human knowledge   \n",
       "\n",
       "                                        display_name  publication_year  \\\n",
       "0  Artificial intelligence in healthcare: past, p...              2017   \n",
       "1  Explainable Artificial Intelligence (XAI): Con...              2020   \n",
       "2   Mastering the game of Go without human knowledge              2017   \n",
       "\n",
       "  publication_date     type  countries_distinct_count  \\\n",
       "0       2017-06-21  article                         2   \n",
       "1       2020-06-01  article                         2   \n",
       "2       2017-10-01  article                         1   \n",
       "\n",
       "   institutions_distinct_count  has_fulltext  cited_by_count  \\\n",
       "0                            6          True            2328   \n",
       "1                            5         False            3870   \n",
       "2                            1          True            6893   \n",
       "\n",
       "                                            keywords  referenced_works_count  \\\n",
       "0  [{'id': 'https://openalex.org/keywords/artific...                      57   \n",
       "1  [{'id': 'https://openalex.org/keywords/xai-con...                     229   \n",
       "2  [{'id': 'https://openalex.org/keywords/compute...                      33   \n",
       "\n",
       "                             abstract_inverted_index  \\\n",
       "0  {'Artificial': [0], 'intelligence': [1], '(AI)...   \n",
       "1  {'In': [0], 'the': [1, 19, 28, 38, 45, 53, 70,...   \n",
       "2  {'A': [0], 'long-standing': [1], 'goal': [2], ...   \n",
       "\n",
       "                                   original_abstract  \\\n",
       "0  Artificial intelligence (AI) aims to mimic hum...   \n",
       "1  In the last few years, Artificial Intelligence...   \n",
       "2  A long-standing goal of artificial intelligenc...   \n",
       "\n",
       "                                            all_text  \\\n",
       "0  Artificial intelligence in healthcare: past, p...   \n",
       "1  Explainable Artificial Intelligence (XAI): Con...   \n",
       "2  Mastering the game of Go without human knowled...   \n",
       "\n",
       "                                          clean_text  \n",
       "0  artificial intelligence healthcare past presen...  \n",
       "1  explainable artificial intelligence xai concep...  \n",
       "2  mastering game go without human knowledgemaste...  "
      ]
     },
     "execution_count": 18,
     "metadata": {},
     "output_type": "execute_result"
    }
   ],
   "source": [
    "master_search.head(3)"
   ]
  },
  {
   "cell_type": "markdown",
   "id": "26f90a3e-1e4e-4736-9ed5-0b53c5368210",
   "metadata": {},
   "source": [
    "## Save Data\n",
    "\n",
    "Here, we save the data as a .pkl file. This is a light-weight solution that we can save to the data folder and use in modeling and analysis notebooks."
   ]
  },
  {
   "cell_type": "code",
   "execution_count": 20,
   "id": "997791db-e6a8-4ded-9edf-95f0e2526b13",
   "metadata": {
    "tags": []
   },
   "outputs": [],
   "source": [
    "#save file as .pkl file\n",
    "with open('Data/preprocessed_data.pkl', 'wb') as file: \n",
    "      \n",
    "    # A new file will be created \n",
    "    pickle.dump(master_search, file) "
   ]
  }
 ],
 "metadata": {
  "kernelspec": {
   "display_name": "sagemaker-distribution:Python",
   "language": "python",
   "name": "conda-env-sagemaker-distribution-py"
  },
  "language_info": {
   "codemirror_mode": {
    "name": "ipython",
    "version": 3
   },
   "file_extension": ".py",
   "mimetype": "text/x-python",
   "name": "python",
   "nbconvert_exporter": "python",
   "pygments_lexer": "ipython3",
   "version": "3.10.14"
  },
  "toc-autonumbering": true,
  "toc-showcode": false,
  "toc-showmarkdowntxt": false
 },
 "nbformat": 4,
 "nbformat_minor": 5
}
