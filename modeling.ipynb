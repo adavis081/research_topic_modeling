{
 "cells": [
  {
   "cell_type": "markdown",
   "metadata": {
    "application/vnd.databricks.v1+cell": {
     "cellMetadata": {},
     "inputWidgets": {},
     "nuid": "6388e605-13d4-48f8-9960-5b94bc814560",
     "showTitle": false,
     "tableResultSettingsMap": {},
     "title": ""
    }
   },
   "source": [
    "# OpenAlex Topic Modeling\n",
    "\n",
    "Author: Alex Davis\n",
    "\n",
    "Date: 07/11/2024\n",
    "\n",
    "The purpose of this script is to generate a high-quality topic model using the preprocessed corpus from the 'data_load' script."
   ]
  },
  {
   "cell_type": "code",
   "execution_count": 0,
   "metadata": {
    "application/vnd.databricks.v1+cell": {
     "cellMetadata": {
      "byteLimit": 2048000,
      "rowLimit": 10000
     },
     "inputWidgets": {},
     "nuid": "23a5539c-06b5-45cd-b822-2b372975b1c9",
     "showTitle": false,
     "tableResultSettingsMap": {},
     "title": ""
    },
    "tags": []
   },
   "outputs": [],
   "source": [
    "#import packages\n",
    "import gensim\n",
    "import gensim.corpora as corpora\n",
    "from gensim.corpora import Dictionary\n",
    "from gensim.models.coherencemodel import CoherenceModel\n",
    "from gensim.models.ldamodel import LdaModel\n",
    "\n",
    "import pyLDAvis\n",
    "import pyLDAvis.gensim\n",
    "\n",
    "import pickle\n",
    "import re\n",
    "import pandas as pd\n",
    "import matplotlib.pyplot as plt"
   ]
  },
  {
   "cell_type": "markdown",
   "metadata": {
    "application/vnd.databricks.v1+cell": {
     "cellMetadata": {},
     "inputWidgets": {},
     "nuid": "1a90cf39-7ec0-40ef-9f50-907fc819fd40",
     "showTitle": false,
     "tableResultSettingsMap": {},
     "title": ""
    }
   },
   "source": [
    "## Import Data\n",
    "\n",
    "Here, we read the pickle file we wrote in the data_load notebook."
   ]
  },
  {
   "cell_type": "code",
   "execution_count": 0,
   "metadata": {
    "application/vnd.databricks.v1+cell": {
     "cellMetadata": {
      "byteLimit": 2048000,
      "rowLimit": 10000
     },
     "inputWidgets": {},
     "nuid": "87701de4-915f-4b29-bb08-0fd7c9e6858b",
     "showTitle": false,
     "tableResultSettingsMap": {},
     "title": ""
    },
    "tags": []
   },
   "outputs": [],
   "source": [
    "#open the file where we stored the pickled data\n",
    "file = open('Data/preprocessed_data.pkl', 'rb')\n",
    "\n",
    "#dump information to that file\n",
    "data = pickle.load(file)\n",
    "\n",
    "# close the file\n",
    "file.close()"
   ]
  },
  {
   "cell_type": "code",
   "execution_count": 0,
   "metadata": {
    "application/vnd.databricks.v1+cell": {
     "cellMetadata": {
      "byteLimit": 2048000,
      "rowLimit": 10000
     },
     "inputWidgets": {},
     "nuid": "66ddbeaa-7233-48c8-a87c-b93fda36db43",
     "showTitle": false,
     "tableResultSettingsMap": {},
     "title": ""
    }
   },
   "outputs": [],
   "source": [
    "data.head()"
   ]
  },
  {
   "cell_type": "markdown",
   "metadata": {
    "application/vnd.databricks.v1+cell": {
     "cellMetadata": {},
     "inputWidgets": {},
     "nuid": "71a4d959-1444-4e74-ab2f-b534ed2a8075",
     "showTitle": false,
     "tableResultSettingsMap": {},
     "title": ""
    }
   },
   "source": [
    "## Prepare Corpus\n",
    "\n",
    "Here, we grab the data we need and transform it to prepare it for modeling. We create the corpus as well as the word ID mappings that will all feed into the model."
   ]
  },
  {
   "cell_type": "code",
   "execution_count": 0,
   "metadata": {
    "application/vnd.databricks.v1+cell": {
     "cellMetadata": {},
     "inputWidgets": {},
     "nuid": "c88c70a0-12ab-4991-98db-090fa8548785",
     "showTitle": false,
     "tableResultSettingsMap": {},
     "title": ""
    },
    "tags": []
   },
   "outputs": [],
   "source": [
    "#convert the preprocessed text to a list\n",
    "documents = list(data[\"clean_text\"])\n",
    "\n",
    "#seperate by ' ' to tokenize each article\n",
    "texts = [x.split(' ') for x in documents]"
   ]
  },
  {
   "cell_type": "code",
   "execution_count": 0,
   "metadata": {
    "application/vnd.databricks.v1+cell": {
     "cellMetadata": {},
     "inputWidgets": {},
     "nuid": "d6e93632-3545-4fb4-877a-d233b95efbe5",
     "showTitle": false,
     "tableResultSettingsMap": {},
     "title": ""
    },
    "tags": []
   },
   "outputs": [],
   "source": [
    "#construct word ID mappings\n",
    "id2word = Dictionary(texts)\n",
    "\n",
    "#use word ID mappings to build corpus\n",
    "corpus = [id2word.doc2bow(text) for text in texts]"
   ]
  },
  {
   "cell_type": "markdown",
   "metadata": {
    "application/vnd.databricks.v1+cell": {
     "cellMetadata": {},
     "inputWidgets": {},
     "nuid": "b1ef7773-6b08-4bd8-b35e-12e0dd7b5745",
     "showTitle": false,
     "tableResultSettingsMap": {},
     "title": ""
    }
   },
   "source": [
    "## Sample Model\n",
    "\n",
    "Here, we build a sample model with arbitrary parameters, compute its coherence score, and visualize the resulting topics using pyLDAvis."
   ]
  },
  {
   "cell_type": "code",
   "execution_count": 0,
   "metadata": {
    "application/vnd.databricks.v1+cell": {
     "cellMetadata": {},
     "inputWidgets": {},
     "nuid": "29c0f2a1-1305-45ed-899f-5447c271d215",
     "showTitle": false,
     "tableResultSettingsMap": {},
     "title": ""
    }
   },
   "outputs": [],
   "source": [
    "#build LDA model\n",
    "lda_model = LdaModel(corpus = corpus, id2word = id2word, num_topics = 10, decay = 0.5,\n",
    "                     random_state = 0, chunksize = 100, alpha = 'auto', per_word_topics = True)"
   ]
  },
  {
   "cell_type": "code",
   "execution_count": 0,
   "metadata": {
    "application/vnd.databricks.v1+cell": {
     "cellMetadata": {},
     "inputWidgets": {},
     "nuid": "cd36ff6b-82f2-4dc1-ab84-cdb4ca7d928b",
     "showTitle": false,
     "tableResultSettingsMap": {},
     "title": ""
    }
   },
   "outputs": [],
   "source": [
    "#compute coherence score\n",
    "coherence_model_lda = CoherenceModel(model = lda_model, texts = texts, dictionary = id2word, coherence = 'c_v')\n",
    "coherence_score = coherence_model_lda.get_coherence()\n",
    "print(coherence_score)"
   ]
  },
  {
   "cell_type": "markdown",
   "metadata": {
    "application/vnd.databricks.v1+cell": {
     "cellMetadata": {},
     "inputWidgets": {},
     "nuid": "679a96a6-a8f8-4e95-b6fc-6e478011fa4e",
     "showTitle": false,
     "tableResultSettingsMap": {},
     "title": ""
    }
   },
   "source": [
    "Below, we use pyLDAvis to visualize the topics from the model above. To the left, you can see each topic represented in a parameter space. Ideally, we want topics that are well defined and that do not overlap with other topics. To the right, you can see the most salient terms. Click on a topic to see that topic's most salient terms highlighted in red. Adjust the relevance metric to the left to view tokens completeley unique to that topic, and slide it to the right to see less unique tokens."
   ]
  },
  {
   "cell_type": "code",
   "execution_count": 0,
   "metadata": {
    "application/vnd.databricks.v1+cell": {
     "cellMetadata": {},
     "inputWidgets": {},
     "nuid": "dcdbbea2-1e1a-47a0-9e68-517de6a44119",
     "showTitle": false,
     "tableResultSettingsMap": {},
     "title": ""
    }
   },
   "outputs": [],
   "source": [
    "#create Topic Distance Visualization \n",
    "pyLDAvis.enable_notebook()\n",
    "lda_viz = pyLDAvis.gensim.prepare(lda_model, corpus, id2word)\n",
    "lda_viz"
   ]
  },
  {
   "cell_type": "code",
   "execution_count": 0,
   "metadata": {
    "application/vnd.databricks.v1+cell": {
     "cellMetadata": {},
     "inputWidgets": {},
     "nuid": "0c1de0de-f8c6-42e0-93e8-02ce5825e13b",
     "showTitle": false,
     "tableResultSettingsMap": {},
     "title": ""
    },
    "tags": []
   },
   "outputs": [],
   "source": [
    "#save as html file\n",
    "pyLDAvis.save_html(lda_viz, 'Outputs/lda_draft.html')"
   ]
  },
  {
   "cell_type": "markdown",
   "metadata": {
    "application/vnd.databricks.v1+cell": {
     "cellMetadata": {},
     "inputWidgets": {},
     "nuid": "ee5c97c1-59a0-4721-97cc-d60267b88fca",
     "showTitle": false,
     "tableResultSettingsMap": {},
     "title": ""
    }
   },
   "source": [
    "## Model Creation and Evaluation\n",
    "\n",
    "Here, we create an LDA model using gensim and adjust the parameters to find the best coherence score we can find. Topic coherence evaluates a single topic by measuring the degree of semantic similarity between high scoring words in the topic.\n",
    "\n",
    "We loop through different values of num_topics and decay, compute the coherence score for each combination of parameters, and save the results in a dataframe."
   ]
  },
  {
   "cell_type": "code",
   "execution_count": 0,
   "metadata": {
    "application/vnd.databricks.v1+cell": {
     "cellMetadata": {},
     "inputWidgets": {},
     "nuid": "eef0a73f-a55f-4cc9-b351-c8d0afd406b3",
     "showTitle": false,
     "tableResultSettingsMap": {},
     "title": ""
    },
    "tags": []
   },
   "outputs": [],
   "source": [
    "def lda_model_evaluation():\n",
    "    \n",
    "    \"\"\"\n",
    "    This function loops through a number of parameters for an LDA model, creates the model,\n",
    "    computes the coherenece score, and saves the results in a pandas dataframe. The outputed dataframe\n",
    "    contains the values of the parameters tested and the resulting coherence score.\n",
    "    \"\"\"\n",
    "    \n",
    "    #define empty lists to save results\n",
    "    topic_number, decay_rate_list, score  = [], [], []\n",
    "    \n",
    "    #loop through a number of parameters\n",
    "    for topics in range(5,12):\n",
    "        for decay_rate in [0.5, 0.6, 0.7]:\n",
    "                \n",
    "                #build LDA model\n",
    "                lda_model = LdaModel(corpus = corpus, id2word = id2word, num_topics = topics, decay = decay_rate,\n",
    "                               random_state = 0, chunksize = 100, alpha = 'auto', per_word_topics = True)\n",
    "                \n",
    "                #compute coherence score\n",
    "                coherence_model_lda = CoherenceModel(model = lda_model, texts = texts, dictionary = id2word, coherence = 'c_v')\n",
    "                coherence_score = coherence_model_lda.get_coherence()\n",
    "                \n",
    "                #append parameters to lists\n",
    "                topic_number.append(topics)\n",
    "                decay_rate_list.append(decay_rate)\n",
    "                score.append(coherence_score)\n",
    "                \n",
    "                print(\"Model Saved\")\n",
    "    \n",
    "    #gather result into a dataframe\n",
    "    results = {\"Number of Topics\": topic_number,\n",
    "                \"Decay Rate\": decay_rate_list,\n",
    "                \"Score\": score}\n",
    "    \n",
    "    results = pd.DataFrame(results)\n",
    "    \n",
    "    return(results) "
   ]
  },
  {
   "cell_type": "code",
   "execution_count": 0,
   "metadata": {
    "application/vnd.databricks.v1+cell": {
     "cellMetadata": {},
     "inputWidgets": {},
     "nuid": "f15bf49b-cd4f-41eb-a869-1fedb814b119",
     "showTitle": false,
     "tableResultSettingsMap": {},
     "title": ""
    }
   },
   "outputs": [],
   "source": [
    "#call the evaluation model and save the results\n",
    "results = lda_model_evaluation()"
   ]
  },
  {
   "cell_type": "code",
   "execution_count": 0,
   "metadata": {
    "application/vnd.databricks.v1+cell": {
     "cellMetadata": {},
     "inputWidgets": {},
     "nuid": "bd1adeb6-556e-49b5-b803-b558aebd03ef",
     "showTitle": false,
     "tableResultSettingsMap": {},
     "title": ""
    }
   },
   "outputs": [],
   "source": [
    "results.sort_values(by = \"Score\", ascending = False)"
   ]
  },
  {
   "cell_type": "markdown",
   "metadata": {
    "application/vnd.databricks.v1+cell": {
     "cellMetadata": {},
     "inputWidgets": {},
     "nuid": "8c665369-d801-4ea8-890a-77920bcb145e",
     "showTitle": false,
     "tableResultSettingsMap": {},
     "title": ""
    },
    "tags": []
   },
   "source": [
    "## Visualize Final Topic Model Results\n",
    "\n",
    "From our optimiztion function, the optimal model has 10 topics with a decay rate of 0.7."
   ]
  },
  {
   "cell_type": "code",
   "execution_count": 0,
   "metadata": {
    "application/vnd.databricks.v1+cell": {
     "cellMetadata": {},
     "inputWidgets": {},
     "nuid": "8f9ea911-8e17-4613-be51-3d07ea2cc2c6",
     "showTitle": false,
     "tableResultSettingsMap": {},
     "title": ""
    }
   },
   "outputs": [],
   "source": [
    "#build LDA model\n",
    "final_lda_model = LdaModel(corpus = corpus, id2word = id2word, num_topics = 10, decay = 0.7,\n",
    "                     random_state = 0, chunksize = 100, alpha = 'auto', per_word_topics = True)"
   ]
  },
  {
   "cell_type": "code",
   "execution_count": 0,
   "metadata": {
    "application/vnd.databricks.v1+cell": {
     "cellMetadata": {},
     "inputWidgets": {},
     "nuid": "1eb5b300-6551-4294-ae2a-7626311f42f1",
     "showTitle": false,
     "tableResultSettingsMap": {},
     "title": ""
    }
   },
   "outputs": [],
   "source": [
    "#compute coherence score\n",
    "coherence_model_lda = CoherenceModel(model = final_lda_model, texts = texts, dictionary = id2word, coherence = 'c_v')\n",
    "coherence_score = coherence_model_lda.get_coherence()\n",
    "print(coherence_score)"
   ]
  },
  {
   "cell_type": "code",
   "execution_count": 0,
   "metadata": {
    "application/vnd.databricks.v1+cell": {
     "cellMetadata": {},
     "inputWidgets": {},
     "nuid": "bb00b589-1211-4d83-8fd6-0527938c558e",
     "showTitle": false,
     "tableResultSettingsMap": {},
     "title": ""
    }
   },
   "outputs": [],
   "source": [
    "#create Topic Distance Visualization \n",
    "pyLDAvis.enable_notebook()\n",
    "lda_viz = pyLDAvis.gensim.prepare(final_lda_model, corpus, id2word)\n",
    "lda_viz"
   ]
  },
  {
   "cell_type": "code",
   "execution_count": 0,
   "metadata": {
    "application/vnd.databricks.v1+cell": {
     "cellMetadata": {},
     "inputWidgets": {},
     "nuid": "eb816ed0-1a6b-453f-b04a-d7a55cb871e1",
     "showTitle": false,
     "tableResultSettingsMap": {},
     "title": ""
    },
    "tags": []
   },
   "outputs": [],
   "source": [
    "#save as html file\n",
    "pyLDAvis.save_html(lda_viz, 'Outputs/lda_final.html')"
   ]
  }
 ],
 "metadata": {
  "application/vnd.databricks.v1+notebook": {
   "computePreferences": null,
   "dashboards": [],
   "environmentMetadata": null,
   "inputWidgetPreferences": null,
   "language": "python",
   "notebookMetadata": {
    "pythonIndentUnit": 4
   },
   "notebookName": "modeling",
   "widgets": {}
  },
  "kernelspec": {
   "display_name": "sagemaker-distribution:Python",
   "language": "python",
   "name": "conda-env-sagemaker-distribution-py"
  },
  "language_info": {
   "name": "python"
  }
 },
 "nbformat": 4,
 "nbformat_minor": 0
}
